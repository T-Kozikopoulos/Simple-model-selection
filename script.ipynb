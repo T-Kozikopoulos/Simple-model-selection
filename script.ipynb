{
 "cells": [
  {
   "cell_type": "code",
   "execution_count": null,
   "metadata": {},
   "outputs": [],
   "source": [
    "from __future__ import division, print_function, absolute_import\n",
    "\n",
    "\n",
    "%matplotlib inline\n",
    "import matplotlib.pyplot as plt\n",
    "import numpy as np\n",
    "import pandas as pd\n",
    "import tensorflow as tf\n",
    "\n",
    "# Dataset from http://archive.ics.uci.edu/ml/datasets/Skin+Segmentation\n",
    "data = pd.read_csv('data.csv', low_memory=False)\n",
    "\n",
    "df = pd.DataFrame(data)\n",
    "df.columns = ['B', 'G', 'R', 'labels']\n",
    "# Shuffle data becauseis it divided according to labels.\n",
    "df = df.sample(frac=1).reset_index(drop=True)\n",
    "\n",
    "print(df.head())"
   ]
  },
  {
   "cell_type": "code",
   "execution_count": null,
   "metadata": {},
   "outputs": [],
   "source": [
    "# Set features and labels.\n",
    "X = df\n",
    "y = X['labels']\n",
    "del X['labels']\n",
    "\n",
    "print(X.head())\n",
    "print(y.head())"
   ]
  },
  {
   "cell_type": "code",
   "execution_count": null,
   "metadata": {},
   "outputs": [],
   "source": [
    "# Create train/test sets.\n",
    "from sklearn.model_selection import train_test_split\n",
    "\n",
    "\n",
    "X_train, X_test, y_train, y_test = train_test_split(X, y, test_size=0.25, random_state=0)"
   ]
  },
  {
   "cell_type": "code",
   "execution_count": null,
   "metadata": {
    "scrolled": true
   },
   "outputs": [],
   "source": [
    "from sklearn.neural_network import MLPClassifier\n",
    "from sklearn.neighbors import KNeighborsClassifier\n",
    "from sklearn.tree import DecisionTreeClassifier\n",
    "from sklearn.ensemble import RandomForestClassifier, AdaBoostClassifier\n",
    "from sklearn.naive_bayes import GaussianNB\n",
    "from sklearn.discriminant_analysis import QuadraticDiscriminantAnalysis\n",
    "import operator\n",
    "\n",
    "\n",
    "# A list for classifiers to train.\n",
    "classifiers = [\n",
    "    GaussianNB(),\n",
    "    MLPClassifier(alpha=1),\n",
    "    AdaBoostClassifier(),\n",
    "    KNeighborsClassifier(3),\n",
    "    DecisionTreeClassifier(max_depth=5),\n",
    "    RandomForestClassifier(max_depth=5, n_estimators=10, max_features=1),\n",
    "    QuadraticDiscriminantAnalysis()]\n",
    "\n",
    "scores = {}\n",
    "\n",
    "# Train the models.\n",
    "for i in classifiers:\n",
    "    clf = i\n",
    "    clf.fit(X_train, y_train)\n",
    "    acc = clf.fit(X_train, y_train).score(X_test, y_test)\n",
    "    scores['{}'.format(clf)] = acc\n",
    "    print(\"Classifier: {} \\nAccuracy: {} \\n \\n\".format(clf, acc))\n",
    "\n",
    "# Print out the one who performed best.\n",
    "best_score = max(scores.items(), key=operator.itemgetter(1))\n",
    "print('Highest accuracy achieved by: \\n{}'.format(best_score))"
   ]
  }
 ],
 "metadata": {
  "kernelspec": {
   "display_name": "Python 3",
   "language": "python",
   "name": "python3"
  },
  "language_info": {
   "codemirror_mode": {
    "name": "ipython",
    "version": 3
   },
   "file_extension": ".py",
   "mimetype": "text/x-python",
   "name": "python",
   "nbconvert_exporter": "python",
   "pygments_lexer": "ipython3",
   "version": "3.5.0"
  }
 },
 "nbformat": 4,
 "nbformat_minor": 2
}
